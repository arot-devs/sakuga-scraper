{
 "cells": [
  {
   "cell_type": "markdown",
   "metadata": {},
   "source": [
    "context:\n",
    "- 已经下载了很多图\n",
    "- 需要tar成dataset"
   ]
  },
  {
   "cell_type": "code",
   "execution_count": 27,
   "metadata": {},
   "outputs": [],
   "source": [
    "import os\n",
    "import tarfile\n",
    "from pathlib import Path\n",
    "from typing import List\n",
    "import unibox as ub\n",
    "\n",
    "import os\n",
    "import tarfile\n",
    "from pathlib import Path\n",
    "from typing import List\n",
    "\n",
    "def generate_tar_from_images(image_files: List[str], output_dir: str, id: int, modulo: int = 10000) -> List[str]:\n",
    "    \"\"\"\n",
    "    Create tar files containing images grouped by post ID ranges.\n",
    "\n",
    "    Args:\n",
    "        image_files (List[str]): List of image file paths.\n",
    "        output_dir (str): Directory to store the tar files.\n",
    "        id (int): The ID used to determine the range of files to include in the tar.\n",
    "        modulo (int): Constant range of IDs per tar file (default: 10,000).\n",
    "\n",
    "    Returns:\n",
    "        List[str]: List of created tar file paths.\n",
    "    \"\"\"\n",
    "    output_dir = Path(output_dir)\n",
    "    output_dir.mkdir(parents=True, exist_ok=True)\n",
    "\n",
    "    # Determine range for the current ID\n",
    "    range_start = id * modulo\n",
    "    range_end = (id + 1) * modulo\n",
    "\n",
    "    # Filter images by ID range\n",
    "    tar_files = []\n",
    "    files_in_range = []\n",
    "    for image_path in image_files:\n",
    "        filename = os.path.basename(image_path)\n",
    "        # Extract ID from filename (e.g., \"sankaku_16465\")\n",
    "        try:\n",
    "            post_id = int(filename.split('_')[1].split('.')[0])\n",
    "        except (IndexError, ValueError):\n",
    "            print(f\"Skipping file with invalid format: {filename}\")\n",
    "            continue\n",
    "\n",
    "        if range_start <= post_id < range_end:\n",
    "            files_in_range.append(image_path)\n",
    "\n",
    "    # Create tar file for the range\n",
    "    if files_in_range:\n",
    "        tar_file_path = output_dir / f\"{id}.tar\"\n",
    "        with tarfile.open(tar_file_path, \"w\") as tar:\n",
    "            for file in files_in_range:\n",
    "                tar.add(file, arcname=os.path.relpath(file, start=os.path.dirname(file)))\n",
    "        tar_files.append(str(tar_file_path))\n",
    "        print(f\"Created tar: {tar_file_path} with {len(files_in_range)} files.\")\n",
    "    else:\n",
    "        print(f\"No files found in range {range_start}-{range_end}.\")\n",
    "\n",
    "    return tar_files\n",
    "\n",
    "def determine_tar_info(image_files: List[str], modulo: int = 10000):\n",
    "    \"\"\"\n",
    "    Determine how many full tars can be created and the current last post number.\n",
    "\n",
    "    Args:\n",
    "        image_files (List[str]): List of image file paths.\n",
    "        modulo (int): Constant range of IDs per tar file (default: 10,000).\n",
    "\n",
    "    Returns:\n",
    "        tuple: (number_of_full_tars, last_post_id)\n",
    "    \"\"\"\n",
    "    post_ids = []\n",
    "    for image_path in image_files:\n",
    "        filename = os.path.basename(image_path)\n",
    "        try:\n",
    "            post_id = int(filename.split('_')[1].split('.')[0])\n",
    "            post_ids.append(post_id)\n",
    "        except (IndexError, ValueError):\n",
    "            print(f\"Skipping file with invalid format: {filename}\")\n",
    "            continue\n",
    "\n",
    "    if not post_ids:\n",
    "        return 0, None\n",
    "\n",
    "    last_post_id = max(post_ids)\n",
    "    number_of_full_tars = (last_post_id + 1) // modulo\n",
    "\n",
    "    return number_of_full_tars, last_post_id"
   ]
  },
  {
   "cell_type": "code",
   "execution_count": null,
   "metadata": {},
   "outputs": [],
   "source": [
    "# Example usage:\n",
    "data_dir = \"/rmt/yada/dev/sakuga-scraper/data\"\n",
    "output_dir = \"/rmt/yada/dev/sakuga-scraper/tars\"\n",
    "\n",
    "# Collect all valid media files\n",
    "all_files = ub.traverses(\"/rmt/yada/dev/sakuga-scraper/data\")"
   ]
  },
  {
   "cell_type": "code",
   "execution_count": 22,
   "metadata": {},
   "outputs": [
    {
     "name": "stdout",
     "output_type": "stream",
     "text": [
      "67748 67748\n"
     ]
    }
   ],
   "source": [
    "# Convert extensions to sets for validation\n",
    "image_extensions = set(ub.IMG_FILES) - {'.gif'}\n",
    "video_extensions = {'.webm', '.mp4', '.gif'}\n",
    "\n",
    "# Categorize files\n",
    "image_files = [f for f in all_files if Path(f).suffix in image_extensions]\n",
    "video_files = [f for f in all_files if Path(f).suffix in video_extensions]\n",
    "json_files = [f for f in all_files if Path(f).suffix == '.json']\n",
    "\n",
    "# Recompute lengths\n",
    "total_unique_files = len(set(image_files + video_files + json_files))\n",
    "print(len(all_files), total_unique_files)"
   ]
  },
  {
   "cell_type": "code",
   "execution_count": 30,
   "metadata": {},
   "outputs": [
    {
     "data": {
      "text/plain": [
       "((6, 65902), (6, 65911))"
      ]
     },
     "execution_count": 30,
     "metadata": {},
     "output_type": "execute_result"
    }
   ],
   "source": [
    "# full tar count, last post id\n",
    "determine_tar_info(image_files), determine_tar_info(video_files)"
   ]
  },
  {
   "cell_type": "code",
   "execution_count": 26,
   "metadata": {},
   "outputs": [
    {
     "name": "stdout",
     "output_type": "stream",
     "text": [
      "Created tar: /rmt/yada/dev/sakuga-scraper/tars/0.tar with 593 files.\n",
      "Generated tar files: ['/rmt/yada/dev/sakuga-scraper/tars/0.tar']\n"
     ]
    }
   ],
   "source": [
    "# Generate tar files\n",
    "generated_tars = generate_tar_from_images(image_files, output_dir, id=0)\n",
    "print(\"Generated tar files:\", generated_tars)"
   ]
  },
  {
   "cell_type": "code",
   "execution_count": 3,
   "metadata": {},
   "outputs": [],
   "source": [
    "!cp '/rmt/yada/dev/sakuga-scraper/data/post_12273/sankaku_12273.webm' ."
   ]
  }
 ],
 "metadata": {
  "kernelspec": {
   "display_name": "base",
   "language": "python",
   "name": "python3"
  },
  "language_info": {
   "codemirror_mode": {
    "name": "ipython",
    "version": 3
   },
   "file_extension": ".py",
   "mimetype": "text/x-python",
   "name": "python",
   "nbconvert_exporter": "python",
   "pygments_lexer": "ipython3",
   "version": "3.10.13"
  }
 },
 "nbformat": 4,
 "nbformat_minor": 2
}
