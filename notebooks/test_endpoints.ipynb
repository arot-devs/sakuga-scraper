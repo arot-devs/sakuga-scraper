{
 "cells": [
  {
   "cell_type": "markdown",
   "metadata": {},
   "source": [
    "# Endpoints testing\n",
    "\n",
    "code derived from https://github.com/RedaZt/SakugaGrabber/blob/main/sakugagrabber.py"
   ]
  },
  {
   "cell_type": "markdown",
   "metadata": {},
   "source": [
    "Test Individual Post Fetch"
   ]
  },
  {
   "cell_type": "code",
   "execution_count": null,
   "metadata": {},
   "outputs": [
    {
     "name": "stdout",
     "output_type": "stream",
     "text": [
      "High-res link: https://www.sakugabooru.com/data/56cdf913737fb0ae933d1c4c6e6f923d.mp4\n"
     ]
    }
   ],
   "source": [
    "import urllib3\n",
    "from bs4 import BeautifulSoup as bs\n",
    "\n",
    "http = urllib3.PoolManager()\n",
    "\n",
    "# Test post ID\n",
    "post_id = \"272523\"\n",
    "url = f\"https://www.sakugabooru.com/post/show/{post_id}\"\n",
    "\n",
    "response = http.request(\"GET\", url)\n",
    "if response.status == 200:\n",
    "    soup = bs(response.data, \"html.parser\")\n",
    "    highres_link = soup.find(\"a\", id=\"highres\")\n",
    "    if highres_link:\n",
    "        print(f\"High-res link: {highres_link['href']}\")\n",
    "    else:\n",
    "        print(\"Failed to find the high-resolution image.\")\n",
    "else:\n",
    "    print(f\"Failed to fetch post: {response.status}\")\n"
   ]
  },
  {
   "cell_type": "markdown",
   "metadata": {},
   "source": [
    "2. Test Metadata Extraction\n"
   ]
  },
  {
   "cell_type": "code",
   "execution_count": 4,
   "metadata": {},
   "outputs": [
    {
     "name": "stdout",
     "output_type": "stream",
     "text": [
      "? osamu yamasaki 3\n",
      "? plawres sanshiro 118\n",
      "? presumed 27443\n",
      "? animated 177259\n",
      "? fighting 44620\n"
     ]
    }
   ],
   "source": [
    "# Check tag sidebar\n",
    "data = soup.find(\"ul\", id=\"tag-sidebar\")\n",
    "if data:\n",
    "    infos = data.findChildren(\"li\")\n",
    "    for li in infos:\n",
    "        print(li.text.strip())\n",
    "else:\n",
    "    print(\"Failed to find the tag sidebar.\")\n"
   ]
  },
  {
   "cell_type": "markdown",
   "metadata": {},
   "source": [
    "3. Test Bulk XML Endpoint"
   ]
  },
  {
   "cell_type": "code",
   "execution_count": 8,
   "metadata": {},
   "outputs": [
    {
     "name": "stdout",
     "output_type": "stream",
     "text": [
      "Found 18 posts.\n",
      "272541\n",
      "272539\n",
      "272538\n",
      "272537\n",
      "272536\n"
     ]
    },
    {
     "name": "stderr",
     "output_type": "stream",
     "text": [
      "/tmp/ipykernel_1715162/683178598.py:7: XMLParsedAsHTMLWarning: It looks like you're parsing an XML document using an HTML parser. If this really is an HTML document (maybe it's XHTML?), you can ignore or filter this warning. If it's XML, you should know that using an XML parser will be more reliable. To parse this document as XML, make sure you have the lxml package installed, and pass the keyword argument `features=\"xml\"` into the BeautifulSoup constructor.\n",
      "  soup = bs(response.data, \"lxml\")\n"
     ]
    }
   ],
   "source": [
    "# Bulk download test\n",
    "tags = \"animated\"\n",
    "tags_url = f\"https://www.sakugabooru.com/post.xml?tags={tags}\"\n",
    "response = http.request(\"GET\", tags_url)\n",
    "\n",
    "if response.status == 200:\n",
    "    soup = bs(response.data, \"lxml\")\n",
    "    posts = soup.findAll(\"post\")\n",
    "    if posts:\n",
    "        print(f\"Found {len(posts)} posts.\")\n",
    "        for post in posts[:5]:  # Print first 5\n",
    "            print(post[\"id\"])\n",
    "    else:\n",
    "        print(\"No posts found in XML.\")\n",
    "else:\n",
    "    print(f\"Failed to fetch XML: {response.status}\")"
   ]
  },
  {
   "cell_type": "markdown",
   "metadata": {},
   "source": [
    "4. Test Pool Parsing"
   ]
  },
  {
   "cell_type": "code",
   "execution_count": 9,
   "metadata": {},
   "outputs": [
    {
     "name": "stdout",
     "output_type": "stream",
     "text": [
      "Pool title: P.O.V/First Person\n",
      "Post IDs in pool:\n",
      "#pl https://www.sakugabooru.com/post/show/192133\n",
      "#pl https://www.sakugabooru.com/post/show/199115\n",
      "#pl https://www.sakugabooru.com/post/show/209785\n",
      "#pl https://www.sakugabooru.com/post/show/250149\n",
      "#pl https://www.sakugabooru.com/post/show/250158\n",
      "#pl https://www.sakugabooru.com/post/show/211512\n",
      "#pl https://www.sakugabooru.com/post/show/250165\n",
      "#pl https://www.sakugabooru.com/post/show/75550\n",
      "#pl https://www.sakugabooru.com/post/show/252420\n",
      "#pl https://www.sakugabooru.com/post/show/134818\n",
      "#pl https://www.sakugabooru.com/post/show/238193\n",
      "#pl https://www.sakugabooru.com/post/show/238195\n",
      "#pl https://www.sakugabooru.com/post/show/238200\n",
      "#pl https://www.sakugabooru.com/post/show/269389\n",
      "#pl https://www.sakugabooru.com/post/show/269391\n",
      "#pl https://www.sakugabooru.com/post/show/241272\n",
      "#pl https://www.sakugabooru.com/post/show/143031\n",
      "#pl https://www.sakugabooru.com/post/show/144494\n",
      "#pl https://www.sakugabooru.com/post/show/155644\n",
      "#pl https://www.sakugabooru.com/post/show/252728\n",
      "#pl https://www.sakugabooru.com/post/show/252458\n",
      "#pl https://www.sakugabooru.com/post/show/158210\n",
      "#pl https://www.sakugabooru.com/post/show/253689\n",
      "#pl https://www.sakugabooru.com/post/show/235692\n",
      "#pl https://www.sakugabooru.com/post/show/220926\n",
      "#pl https://www.sakugabooru.com/post/show/85254\n",
      "#pl https://www.sakugabooru.com/post/show/217743\n",
      "#pl https://www.sakugabooru.com/post/show/86842\n",
      "#pl https://www.sakugabooru.com/post/show/210919\n",
      "#pl https://www.sakugabooru.com/post/show/211567\n",
      "#pl https://www.sakugabooru.com/post/show/255351\n",
      "#pl https://www.sakugabooru.com/post/show/21306\n",
      "#pl https://www.sakugabooru.com/post/show/108221\n",
      "#pl https://www.sakugabooru.com/post/show/212543\n",
      "#pl https://www.sakugabooru.com/post/show/215002\n",
      "#pl https://www.sakugabooru.com/post/show/182321\n",
      "#pl https://www.sakugabooru.com/post/show/67646\n",
      "#pl https://www.sakugabooru.com/post/show/204767\n",
      "#pl https://www.sakugabooru.com/post/show/204763\n",
      "#pl https://www.sakugabooru.com/post/show/188359\n",
      "#pl https://www.sakugabooru.com/post/show/222524\n",
      "#pl https://www.sakugabooru.com/post/show/247779\n",
      "#pl https://www.sakugabooru.com/post/show/84234\n",
      "#pl https://www.sakugabooru.com/post/show/255334\n",
      "#pl https://www.sakugabooru.com/post/show/248128\n",
      "#pl https://www.sakugabooru.com/post/show/248356\n",
      "#pl https://www.sakugabooru.com/post/show/206717\n",
      "#pl https://www.sakugabooru.com/post/show/248893\n",
      "#pl https://www.sakugabooru.com/post/show/249045\n",
      "#pl https://www.sakugabooru.com/post/show/147443\n",
      "#pl https://www.sakugabooru.com/post/show/250073\n",
      "#pl https://www.sakugabooru.com/post/show/250227\n",
      "#pl https://www.sakugabooru.com/post/show/250225\n",
      "#pl https://www.sakugabooru.com/post/show/159155\n",
      "#pl https://www.sakugabooru.com/post/show/159156\n",
      "#pl https://www.sakugabooru.com/post/show/250609\n",
      "#pl https://www.sakugabooru.com/post/show/251550\n",
      "#pl https://www.sakugabooru.com/post/show/123930\n",
      "#pl https://www.sakugabooru.com/post/show/251407\n",
      "#pl https://www.sakugabooru.com/post/show/211067\n",
      "#pl https://www.sakugabooru.com/post/show/251745\n",
      "#pl https://www.sakugabooru.com/post/show/251887\n",
      "#pl https://www.sakugabooru.com/post/show/251888\n",
      "#pl https://www.sakugabooru.com/post/show/234497\n",
      "#pl https://www.sakugabooru.com/post/show/252454\n",
      "#pl https://www.sakugabooru.com/post/show/252539\n",
      "#pl https://www.sakugabooru.com/post/show/212644\n",
      "#pl https://www.sakugabooru.com/post/show/252853\n",
      "#pl https://www.sakugabooru.com/post/show/212527\n",
      "#pl https://www.sakugabooru.com/post/show/261917\n",
      "#pl https://www.sakugabooru.com/post/show/116282\n",
      "#pl https://www.sakugabooru.com/post/show/252452\n",
      "#pl https://www.sakugabooru.com/post/show/253205\n",
      "#pl https://www.sakugabooru.com/post/show/177906\n",
      "#pl https://www.sakugabooru.com/post/show/252639\n",
      "#pl https://www.sakugabooru.com/post/show/241275\n",
      "#pl https://www.sakugabooru.com/post/show/22964\n",
      "#pl https://www.sakugabooru.com/post/show/253805\n",
      "#pl https://www.sakugabooru.com/post/show/254163\n",
      "#pl https://www.sakugabooru.com/post/show/254069\n",
      "#pl https://www.sakugabooru.com/post/show/254173\n",
      "#pl https://www.sakugabooru.com/post/show/213021\n",
      "#pl https://www.sakugabooru.com/post/show/254175\n",
      "#pl https://www.sakugabooru.com/post/show/247656\n",
      "#pl https://www.sakugabooru.com/post/show/255448\n",
      "#pl https://www.sakugabooru.com/post/show/255488\n",
      "#pl https://www.sakugabooru.com/post/show/249885\n",
      "#pl https://www.sakugabooru.com/post/show/269855\n",
      "#pl https://www.sakugabooru.com/post/show/211950\n",
      "#pl https://www.sakugabooru.com/post/show/212531\n",
      "#pl https://www.sakugabooru.com/post/show/128677\n",
      "#pl https://www.sakugabooru.com/post/show/128682\n",
      "#pl https://www.sakugabooru.com/post/show/261828\n",
      "#pl https://www.sakugabooru.com/post/show/107975\n",
      "#pl https://www.sakugabooru.com/post/show/257105\n",
      "#pl https://www.sakugabooru.com/post/show/257507\n",
      "#pl https://www.sakugabooru.com/post/show/257657\n",
      "#pl https://www.sakugabooru.com/post/show/257952\n",
      "#pl https://www.sakugabooru.com/post/show/197911\n",
      "#pl https://www.sakugabooru.com/post/show/203213\n",
      "#pl https://www.sakugabooru.com/post/show/216787\n",
      "#pl https://www.sakugabooru.com/post/show/193492\n",
      "#pl https://www.sakugabooru.com/post/show/258160\n",
      "#pl https://www.sakugabooru.com/post/show/192593\n",
      "#pl https://www.sakugabooru.com/post/show/265502\n",
      "#pl https://www.sakugabooru.com/post/show/259186\n",
      "#pl https://www.sakugabooru.com/post/show/259237\n",
      "#pl https://www.sakugabooru.com/post/show/86472\n",
      "#pl https://www.sakugabooru.com/post/show/68873\n",
      "#pl https://www.sakugabooru.com/post/show/52614\n",
      "#pl https://www.sakugabooru.com/post/show/259582\n",
      "#pl https://www.sakugabooru.com/post/show/269289\n",
      "#pl https://www.sakugabooru.com/post/show/20957\n",
      "#pl https://www.sakugabooru.com/post/show/257129\n",
      "#pl https://www.sakugabooru.com/post/show/235919\n",
      "#pl https://www.sakugabooru.com/post/show/222026\n",
      "#pl https://www.sakugabooru.com/post/show/260358\n",
      "#pl https://www.sakugabooru.com/post/show/260355\n",
      "#pl https://www.sakugabooru.com/post/show/260429\n",
      "#pl https://www.sakugabooru.com/post/show/260437\n",
      "#pl https://www.sakugabooru.com/post/show/260444\n",
      "#pl https://www.sakugabooru.com/post/show/220787\n",
      "#pl https://www.sakugabooru.com/post/show/253352\n",
      "#pl https://www.sakugabooru.com/post/show/260615\n",
      "#pl https://www.sakugabooru.com/post/show/250050\n",
      "#pl https://www.sakugabooru.com/post/show/139133\n",
      "#pl https://www.sakugabooru.com/post/show/260845\n",
      "#pl https://www.sakugabooru.com/post/show/260862\n",
      "#pl https://www.sakugabooru.com/post/show/260922\n",
      "#pl https://www.sakugabooru.com/post/show/164325\n",
      "#pl https://www.sakugabooru.com/post/show/205007\n",
      "#pl https://www.sakugabooru.com/post/show/149557\n",
      "#pl https://www.sakugabooru.com/post/show/262224\n",
      "#pl https://www.sakugabooru.com/post/show/34866\n",
      "#pl https://www.sakugabooru.com/post/show/168179\n",
      "#pl https://www.sakugabooru.com/post/show/169298\n",
      "#pl https://www.sakugabooru.com/post/show/174195\n",
      "#pl https://www.sakugabooru.com/post/show/182386\n",
      "#pl https://www.sakugabooru.com/post/show/182369\n",
      "#pl https://www.sakugabooru.com/post/show/266002\n",
      "#pl https://www.sakugabooru.com/post/show/264582\n",
      "#pl https://www.sakugabooru.com/post/show/264631\n",
      "#pl https://www.sakugabooru.com/post/show/265127\n",
      "#pl https://www.sakugabooru.com/post/show/266118\n",
      "#pl https://www.sakugabooru.com/post/show/267013\n",
      "#pl https://www.sakugabooru.com/post/show/267324\n",
      "#pl https://www.sakugabooru.com/post/show/267585\n",
      "#pl https://www.sakugabooru.com/post/show/66655\n",
      "#pl https://www.sakugabooru.com/post/show/268135\n",
      "#pl https://www.sakugabooru.com/post/show/268160\n",
      "#pl https://www.sakugabooru.com/post/show/268906\n",
      "#pl https://www.sakugabooru.com/post/show/269336\n",
      "#pl https://www.sakugabooru.com/post/show/269430\n",
      "#pl https://www.sakugabooru.com/post/show/269436\n",
      "#pl https://www.sakugabooru.com/post/show/269439\n",
      "#pl https://www.sakugabooru.com/post/show/269451\n",
      "#pl https://www.sakugabooru.com/post/show/269682\n",
      "#pl https://www.sakugabooru.com/post/show/269688\n",
      "#pl https://www.sakugabooru.com/post/show/269711\n",
      "#pl https://www.sakugabooru.com/post/show/269712\n",
      "#pl https://www.sakugabooru.com/post/show/269719\n",
      "#pl https://www.sakugabooru.com/post/show/230445\n",
      "#pl https://www.sakugabooru.com/post/show/270849\n",
      "#pl https://www.sakugabooru.com/post/show/140612\n",
      "#pl https://www.sakugabooru.com/post/show/137856\n",
      "#pl https://www.sakugabooru.com/post/show/271206\n",
      "#pl https://www.sakugabooru.com/post/show/42420\n",
      "#pl https://www.sakugabooru.com/post/show/38883\n",
      "#pl https://www.sakugabooru.com/post/show/38874\n",
      "#pl https://www.sakugabooru.com/post/show/241220\n",
      "#pl https://www.sakugabooru.com/post/show/144501\n",
      "#pl https://www.sakugabooru.com/post/show/145213\n",
      "#pl https://www.sakugabooru.com/post/show/111656\n",
      "#pl https://www.sakugabooru.com/post/show/272233\n",
      "#pl https://www.sakugabooru.com/post/show/226934\n",
      "#pl https://www.sakugabooru.com/post/show/226933\n",
      "#pl https://www.sakugabooru.com/post/show/272140\n"
     ]
    }
   ],
   "source": [
    "# Test pool URL\n",
    "pool_url = \"https://www.sakugabooru.com/pool/show/219\"  # Example\n",
    "response = http.request(\"GET\", pool_url)\n",
    "\n",
    "if response.status == 200:\n",
    "    soup = bs(response.data, \"html.parser\")\n",
    "    posts = soup.find_all(\"span\", class_=\"plid\")\n",
    "    pool_title = soup.find(\"div\", id=\"pool-show\").find(\"h4\").text.split(\":\")[-1].strip()\n",
    "    \n",
    "    print(f\"Pool title: {pool_title}\")\n",
    "    print(\"Post IDs in pool:\")\n",
    "    for post in posts:\n",
    "        print(post.text.strip())\n",
    "else:\n",
    "    print(f\"Failed to fetch pool: {response.status}\")\n"
   ]
  }
 ],
 "metadata": {
  "kernelspec": {
   "display_name": "base",
   "language": "python",
   "name": "python3"
  },
  "language_info": {
   "codemirror_mode": {
    "name": "ipython",
    "version": 3
   },
   "file_extension": ".py",
   "mimetype": "text/x-python",
   "name": "python",
   "nbconvert_exporter": "python",
   "pygments_lexer": "ipython3",
   "version": "3.10.13"
  }
 },
 "nbformat": 4,
 "nbformat_minor": 2
}
