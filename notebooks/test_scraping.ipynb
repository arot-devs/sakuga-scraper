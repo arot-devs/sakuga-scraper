{
 "cells": [
  {
   "cell_type": "markdown",
   "metadata": {},
   "source": [
    "use the written scraper:\n",
    "\n",
    "```bash\n",
    "git clone https://github.com/arot-devs/sakuga-scraper\n",
    "cd sakuga-scraper\n",
    "pip install -e .\n",
    "```"
   ]
  },
  {
   "cell_type": "code",
   "execution_count": 1,
   "metadata": {},
   "outputs": [
    {
     "name": "stdout",
     "output_type": "stream",
     "text": [
      "/rmt/yada/dev/sakuga-scraper/notebooks\n"
     ]
    }
   ],
   "source": [
    "!pwd"
   ]
  },
  {
   "cell_type": "code",
   "execution_count": null,
   "metadata": {},
   "outputs": [],
   "source": [
    "!pip install -e ../"
   ]
  },
  {
   "cell_type": "code",
   "execution_count": 1,
   "metadata": {},
   "outputs": [],
   "source": [
    "from sakuga_scraper import SakugaScraper\n",
    "\n",
    "scraper = SakugaScraper(root_dir='../data/')"
   ]
  },
  {
   "cell_type": "code",
   "execution_count": 2,
   "metadata": {},
   "outputs": [
    {
     "name": "stdout",
     "output_type": "stream",
     "text": [
      "Scraping post ID: 1\n",
      "Successfully downloaded post 1\n",
      "Scraping post ID: 2\n",
      "Failed to download post 2: Client error '404 Not Found' for url 'https://www.sakugabooru.com/post/show/2'\n",
      "For more information check: https://developer.mozilla.org/en-US/docs/Web/HTTP/Status/404\n",
      "Scraping post ID: 3\n",
      "Successfully downloaded post 3\n",
      "Scraping post ID: 4\n",
      "Successfully downloaded post 4\n",
      "Scraping post ID: 5\n",
      "Failed to download post 5: Client error '404 Not Found' for url 'https://www.sakugabooru.com/post/show/5'\n",
      "For more information check: https://developer.mozilla.org/en-US/docs/Web/HTTP/Status/404\n",
      "Scraping post ID: 6\n",
      "Failed to download post 6: Client error '404 Not Found' for url 'https://www.sakugabooru.com/post/show/6'\n",
      "For more information check: https://developer.mozilla.org/en-US/docs/Web/HTTP/Status/404\n",
      "Scraping post ID: 7\n",
      "Successfully downloaded post 7\n",
      "Scraping post ID: 8\n",
      "Failed to download post 8: Client error '404 Not Found' for url 'https://www.sakugabooru.com/post/show/8'\n",
      "For more information check: https://developer.mozilla.org/en-US/docs/Web/HTTP/Status/404\n",
      "Scraping post ID: 9\n",
      "Successfully downloaded post 9\n"
     ]
    }
   ],
   "source": [
    "post_ids = [i for i in range(1, 10)]\n",
    "scraper.scrape_posts(post_ids)"
   ]
  }
 ],
 "metadata": {
  "kernelspec": {
   "display_name": "sakuga-scraper-7fzIQuQD-py3.10",
   "language": "python",
   "name": "python3"
  },
  "language_info": {
   "codemirror_mode": {
    "name": "ipython",
    "version": 3
   },
   "file_extension": ".py",
   "mimetype": "text/x-python",
   "name": "python",
   "nbconvert_exporter": "python",
   "pygments_lexer": "ipython3",
   "version": "3.10.13"
  }
 },
 "nbformat": 4,
 "nbformat_minor": 2
}
