{
 "cells": [
  {
   "cell_type": "markdown",
   "metadata": {},
   "source": [
    "use the written scraper:\n",
    "\n",
    "```bash\n",
    "git clone https://github.com/arot-devs/sakuga-scraper\n",
    "cd sakuga-scraper\n",
    "pip install -e .\n",
    "```"
   ]
  },
  {
   "cell_type": "code",
   "execution_count": 1,
   "metadata": {},
   "outputs": [
    {
     "name": "stdout",
     "output_type": "stream",
     "text": [
      "/rmt/yada/dev/sakuga-scraper/notebooks\n"
     ]
    }
   ],
   "source": [
    "!pwd"
   ]
  },
  {
   "cell_type": "code",
   "execution_count": null,
   "metadata": {},
   "outputs": [],
   "source": [
    "!pip install -e ../"
   ]
  },
  {
   "cell_type": "code",
   "execution_count": 1,
   "metadata": {},
   "outputs": [
    {
     "name": "stderr",
     "output_type": "stream",
     "text": [
      "/root/.cache/pypoetry/virtualenvs/sakuga-scraper-7fzIQuQD-py3.10/lib/python3.10/site-packages/tqdm/auto.py:21: TqdmWarning: IProgress not found. Please update jupyter and ipywidgets. See https://ipywidgets.readthedocs.io/en/stable/user_install.html\n",
      "  from .autonotebook import tqdm as notebook_tqdm\n"
     ]
    }
   ],
   "source": [
    "from sakuga_scraper import SakugaScraper\n",
    "\n",
    "scraper = SakugaScraper(root_dir='../data/')"
   ]
  },
  {
   "cell_type": "code",
   "execution_count": 2,
   "metadata": {},
   "outputs": [
    {
     "name": "stderr",
     "output_type": "stream",
     "text": [
      "Scraping post ID: 2:  11%|█         | 1/9 [00:01<00:10,  1.36s/it]2024-12-25 05:40:41,152 [ERROR] UniLogger: SakugaScraper.scrape_posts: ❌ Failed to download post 2: Client error '404 Not Found' for url 'https://www.sakugabooru.com/post/show/2'\n",
      "For more information check: https://developer.mozilla.org/en-US/docs/Web/HTTP/Status/404\n",
      "Scraping post ID: 5:  44%|████▍     | 4/9 [00:05<00:06,  1.25s/it]2024-12-25 05:40:43,510 [ERROR] UniLogger: SakugaScraper.scrape_posts: ❌ Failed to download post 5: Client error '404 Not Found' for url 'https://www.sakugabooru.com/post/show/5'\n",
      "For more information check: https://developer.mozilla.org/en-US/docs/Web/HTTP/Status/404\n",
      "Scraping post ID: 6:  56%|█████▌    | 5/9 [00:05<00:03,  1.07it/s]2024-12-25 05:40:43,676 [ERROR] UniLogger: SakugaScraper.scrape_posts: ❌ Failed to download post 6: Client error '404 Not Found' for url 'https://www.sakugabooru.com/post/show/6'\n",
      "For more information check: https://developer.mozilla.org/en-US/docs/Web/HTTP/Status/404\n",
      "Scraping post ID: 8:  78%|███████▊  | 7/9 [00:07<00:02,  1.06s/it]2024-12-25 05:40:45,830 [ERROR] UniLogger: SakugaScraper.scrape_posts: ❌ Failed to download post 8: Client error '404 Not Found' for url 'https://www.sakugabooru.com/post/show/8'\n",
      "For more information check: https://developer.mozilla.org/en-US/docs/Web/HTTP/Status/404\n",
      "Scraping post ID: 9: 100%|██████████| 9/9 [00:08<00:00,  1.03it/s]\n"
     ]
    }
   ],
   "source": [
    "post_ids = [i for i in range(1, 1000)]\n",
    "scraper.scrape_posts(post_ids)"
   ]
  }
 ],
 "metadata": {
  "kernelspec": {
   "display_name": "sakuga-scraper-7fzIQuQD-py3.10",
   "language": "python",
   "name": "python3"
  },
  "language_info": {
   "codemirror_mode": {
    "name": "ipython",
    "version": 3
   },
   "file_extension": ".py",
   "mimetype": "text/x-python",
   "name": "python",
   "nbconvert_exporter": "python",
   "pygments_lexer": "ipython3",
   "version": "3.10.13"
  }
 },
 "nbformat": 4,
 "nbformat_minor": 2
}
